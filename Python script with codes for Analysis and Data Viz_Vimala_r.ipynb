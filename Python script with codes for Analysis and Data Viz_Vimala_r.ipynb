{
 "cells": [
  {
   "cell_type": "markdown",
   "id": "f99716ca-8aee-41ce-80b1-8e514ad3446d",
   "metadata": {},
   "source": [
    "<div style=\"background-color:lightyellow; padding:10px; font-size: 22px; font-weight: bold; text-align:center;\">***Decision Part***</div>"
   ]
  },
  {
   "cell_type": "code",
   "execution_count": 46,
   "id": "c5994465-0ee7-41e8-995e-3fa82b83df7e",
   "metadata": {},
   "outputs": [],
   "source": [
    "# Importing the required libraries\n",
    "import pandas as pd\n",
    "import numpy as np\n",
    "import matplotlib.pyplot as plt\n",
    "import seaborn as sns\n",
    "\n",
    "from sklearn.model_selection import train_test_split\n",
    "from sklearn.linear_model import LogisticRegression\n",
    "from sklearn.metrics import accuracy_score, precision_score, recall_score, f1_score, roc_auc_score, confusion_matrix\n",
    "\n",
    "from xgboost import XGBClassifier\n",
    "from catboost import CatBoostClassifier\n",
    "from lightgbm import LGBMClassifier\n"
   ]
  },
  {
   "cell_type": "code",
   "execution_count": 47,
   "id": "639328f0-7722-4289-b5c9-d79449e2ed5a",
   "metadata": {},
   "outputs": [],
   "source": [
    "import warnings\n",
    "warnings.filterwarnings('ignore') # Filter out warnings to ignore them"
   ]
  },
  {
   "cell_type": "code",
   "execution_count": 48,
   "id": "0c8af370-d513-42a0-930a-a884366299ce",
   "metadata": {
    "scrolled": true
   },
   "outputs": [
    {
     "name": "stdout",
     "output_type": "stream",
     "text": [
      "   employee_id         department     region   education gender  \\\n",
      "0         8724         Technology  region_26  Bachelor's      m   \n",
      "1        74430                 HR   region_4  Bachelor's      f   \n",
      "2        72255  Sales & Marketing  region_13  Bachelor's      m   \n",
      "3        38562        Procurement   region_2  Bachelor's      f   \n",
      "4        64486            Finance  region_29  Bachelor's      m   \n",
      "\n",
      "  recruitment_channel  no_of_trainings  age  previous_year_rating  \\\n",
      "0            sourcing                1   24                   NaN   \n",
      "1               other                1   31                   3.0   \n",
      "2               other                1   31                   1.0   \n",
      "3               other                3   31                   2.0   \n",
      "4            sourcing                1   30                   4.0   \n",
      "\n",
      "   length_of_service  KPIs_met >80%  awards_won?  avg_training_score  \n",
      "0                  1              1            0                  77  \n",
      "1                  5              0            0                  51  \n",
      "2                  4              0            0                  47  \n",
      "3                  9              0            0                  65  \n",
      "4                  7              0            0                  61  \n"
     ]
    }
   ],
   "source": [
    "# DataReading and Understanding \n",
    "test_data = pd.read_csv('Test_data.csv')  \n",
    "print(test_data.head())"
   ]
  },
  {
   "cell_type": "code",
   "execution_count": 49,
   "id": "f3b70998-4c9f-4afa-808d-02ea2dec15ab",
   "metadata": {},
   "outputs": [],
   "source": [
    "#Data Cleaning and Preprocessing\n",
    "test_data = test_data.drop('employee_id', axis=1)"
   ]
  },
  {
   "cell_type": "code",
   "execution_count": 50,
   "id": "d611c3ab-13ce-4a3a-afd6-4499eca9517b",
   "metadata": {},
   "outputs": [
    {
     "data": {
      "text/plain": [
       "26"
      ]
     },
     "execution_count": 50,
     "metadata": {},
     "output_type": "execute_result"
    }
   ],
   "source": [
    "#Testing for any Duplicate Values\n",
    "test_data.duplicated().sum()"
   ]
  },
  {
   "cell_type": "code",
   "execution_count": 51,
   "id": "0d4cd6ce-e5a7-406e-8d82-b178277e80f2",
   "metadata": {},
   "outputs": [],
   "source": [
    "test_data.drop_duplicates(inplace=True)"
   ]
  },
  {
   "cell_type": "code",
   "execution_count": 52,
   "id": "becdbafe-80df-488b-86af-bcb13f7a159b",
   "metadata": {},
   "outputs": [
    {
     "data": {
      "text/plain": [
       "0"
      ]
     },
     "execution_count": 52,
     "metadata": {},
     "output_type": "execute_result"
    }
   ],
   "source": [
    "test_data.duplicated().sum()"
   ]
  },
  {
   "cell_type": "code",
   "execution_count": 53,
   "id": "91d358ea-cb89-4155-bff0-974481703c31",
   "metadata": {
    "scrolled": true
   },
   "outputs": [
    {
     "data": {
      "text/plain": [
       "previous_year_rating    7.658541\n",
       "education               4.389703\n",
       "department              0.000000\n",
       "region                  0.000000\n",
       "gender                  0.000000\n",
       "recruitment_channel     0.000000\n",
       "no_of_trainings         0.000000\n",
       "age                     0.000000\n",
       "length_of_service       0.000000\n",
       "KPIs_met >80%           0.000000\n",
       "awards_won?             0.000000\n",
       "avg_training_score      0.000000\n",
       "dtype: float64"
      ]
     },
     "execution_count": 53,
     "metadata": {},
     "output_type": "execute_result"
    }
   ],
   "source": [
    "# Checking the percentage of null values for columns\n",
    "\n",
    "100*(test_data.isna().mean()).sort_values(ascending=False)"
   ]
  },
  {
   "cell_type": "code",
   "execution_count": 54,
   "id": "607987f9-59ba-478e-bd78-91e09c53ab2d",
   "metadata": {},
   "outputs": [],
   "source": [
    "# Education and Previous_year_rating have missing values to be imputed with mode and median\n",
    "\n",
    "test_data['education'].fillna(test_data['education'].mode()[0], inplace=True)"
   ]
  },
  {
   "cell_type": "code",
   "execution_count": 55,
   "id": "4db7732f-352c-4f0d-a263-f7485c30fb6d",
   "metadata": {},
   "outputs": [
    {
     "data": {
      "text/plain": [
       "array([nan,  3.,  1.,  2.,  4.,  5.])"
      ]
     },
     "execution_count": 55,
     "metadata": {},
     "output_type": "execute_result"
    }
   ],
   "source": [
    "test_data['previous_year_rating'].unique()"
   ]
  },
  {
   "cell_type": "code",
   "execution_count": 56,
   "id": "e16f8039-6256-407c-ad3f-b2393d7bc039",
   "metadata": {},
   "outputs": [
    {
     "name": "stdout",
     "output_type": "stream",
     "text": [
      "0    3.0\n",
      "Name: previous_year_rating, dtype: float64\n"
     ]
    }
   ],
   "source": [
    "print(test_data[\"previous_year_rating\"].mode())"
   ]
  },
  {
   "cell_type": "code",
   "execution_count": 57,
   "id": "8686cd81-a4af-4a1c-85c0-17f3ac04aeb8",
   "metadata": {},
   "outputs": [],
   "source": [
    "test_data['previous_year_rating'] = test_data['previous_year_rating'].fillna(test_data['previous_year_rating'].median())"
   ]
  },
  {
   "cell_type": "code",
   "execution_count": 58,
   "id": "0f2f0209-e2b6-4aae-a69f-dba2426aef3f",
   "metadata": {
    "scrolled": true
   },
   "outputs": [
    {
     "name": "stdout",
     "output_type": "stream",
     "text": [
      "department              0\n",
      "region                  0\n",
      "education               0\n",
      "gender                  0\n",
      "recruitment_channel     0\n",
      "no_of_trainings         0\n",
      "age                     0\n",
      "previous_year_rating    0\n",
      "length_of_service       0\n",
      "KPIs_met >80%           0\n",
      "awards_won?             0\n",
      "avg_training_score      0\n",
      "dtype: int64\n"
     ]
    }
   ],
   "source": [
    "print(test_data.isnull().sum())"
   ]
  },
  {
   "cell_type": "code",
   "execution_count": 59,
   "id": "78976ed4-859f-4cff-ab29-3abce992d85b",
   "metadata": {},
   "outputs": [],
   "source": [
    "#Train-Test Split\n",
    "# Create X and y\n",
    "X = test_data.drop('previous_year_rating', axis=1)\n",
    "y = test_data['previous_year_rating']\n",
    "\n",
    "# One-hot encode categorical columns\n",
    "X_encoded = pd.get_dummies(X, drop_first=True)\n",
    "\n",
    "# Train-test split\n",
    "X_train, X_test, y_train, y_test = train_test_split(X_encoded, y, test_size=0.2, random_state=42)\n"
   ]
  },
  {
   "cell_type": "code",
   "execution_count": 60,
   "id": "4c5af0ee-9ff7-4bbc-9979-0b7b6fb77fe9",
   "metadata": {},
   "outputs": [],
   "source": [
    "#Training the model\n",
    "# Train logistic regression\n",
    "log_model = LogisticRegression(max_iter=10000)\n",
    "log_model.fit(X_train, y_train)\n",
    "\n",
    "# Predict\n",
    "log_preds = log_model.predict(X_test)"
   ]
  },
  {
   "cell_type": "code",
   "execution_count": 61,
   "id": "0da54a9f-aa5e-4272-873c-7e46f4b0951a",
   "metadata": {},
   "outputs": [],
   "source": [
    "import xgboost as xgb\n",
    "# Adjust target variable labels to start from 0\n",
    "y = y - 1  # Subtract 1 from each class label to make it start from 0\n",
    "\n",
    "# Train-test split\n",
    "X_train, X_test, y_train, y_test = train_test_split(X_encoded, y, test_size=0.2, random_state=42)\n",
    "\n",
    "# Train the model\n",
    "xgb_model = xgb.XGBClassifier(use_label_encoder=False, eval_metric='logloss')\n",
    "xgb_model.fit(X_train, y_train)\n",
    "\n",
    "# Predict\n",
    "xgb_preds = xgb_model.predict(X_test)\n"
   ]
  },
  {
   "cell_type": "code",
   "execution_count": 62,
   "id": "0cfabab3-86b2-4bdb-8443-a6a5e637f035",
   "metadata": {},
   "outputs": [],
   "source": [
    "# CatBoost\n",
    "cat_model = CatBoostClassifier(verbose=0)\n",
    "cat_model.fit(X_train, y_train)\n",
    "cat_preds = cat_model.predict(X_test)"
   ]
  },
  {
   "cell_type": "code",
   "execution_count": 63,
   "id": "8d7fc03e-d416-4b23-abdb-bc515adab986",
   "metadata": {
    "scrolled": true
   },
   "outputs": [
    {
     "name": "stdout",
     "output_type": "stream",
     "text": [
      "[LightGBM] [Warning] Found whitespace in feature_names, replace with underlines\n",
      "[LightGBM] [Info] Auto-choosing row-wise multi-threading, the overhead of testing was 0.000846 seconds.\n",
      "You can set `force_row_wise=true` to remove the overhead.\n",
      "And if memory is not enough, you can set `force_col_wise=true`.\n",
      "[LightGBM] [Info] Total Bins 239\n",
      "[LightGBM] [Info] Number of data points in the train set: 18771, number of used features: 51\n",
      "[LightGBM] [Info] Start training from score -2.169640\n",
      "[LightGBM] [Info] Start training from score -2.616773\n",
      "[LightGBM] [Info] Start training from score -0.876012\n",
      "[LightGBM] [Info] Start training from score -1.715918\n",
      "[LightGBM] [Info] Start training from score -1.530145\n"
     ]
    }
   ],
   "source": [
    "import lightgbm as lgb\n",
    "# LightGBM\n",
    "lgb_model = lgb.LGBMClassifier()\n",
    "lgb_model.fit(X_train, y_train)\n",
    "lgb_preds = lgb_model.predict(X_test)"
   ]
  },
  {
   "cell_type": "code",
   "execution_count": 64,
   "id": "f5b1a239-b029-41a0-950c-b667f01c4c33",
   "metadata": {},
   "outputs": [
    {
     "name": "stdout",
     "output_type": "stream",
     "text": [
      "                 Model  Accuracy  Precision    Recall        F1       AUC\n",
      "0  Logistic Regression  0.136373   0.090384  0.124548  0.055398  0.654715\n",
      "1              XGBoost  0.450671   0.326642  0.295397  0.269893  0.682280\n",
      "2             CatBoost  0.448540   0.297383  0.294137  0.270433  0.683629\n",
      "3             LightGBM  0.453441   0.309406  0.290073  0.253601  0.686532\n"
     ]
    }
   ],
   "source": [
    "import pandas as pd\n",
    "import numpy as np\n",
    "from sklearn.metrics import accuracy_score, precision_score, recall_score, f1_score, roc_auc_score\n",
    "\n",
    "metrics_df = pd.DataFrame(columns=['Model', 'Accuracy', 'Precision', 'Recall', 'F1', 'AUC'])\n",
    "\n",
    "def evaluate_model(y_true, y_pred, model_name, y_probs=None):\n",
    "    acc = accuracy_score(y_true, y_pred)\n",
    "    prec = precision_score(y_true, y_pred, average='macro')  # Use 'macro' for multiclass\n",
    "    rec = recall_score(y_true, y_pred, average='macro')      # Use 'macro' for multiclass\n",
    "    f1 = f1_score(y_true, y_pred, average='macro')            # Use 'macro' for multiclass\n",
    "    auc = roc_auc_score(y_true, y_probs, average='macro', multi_class='ovr') if y_probs is not None else np.nan  # For multiclass AUC\n",
    "    return {'Model': model_name, 'Accuracy': acc, 'Precision': prec, 'Recall': rec, 'F1': f1, 'AUC': auc}\n",
    "\n",
    "# Logistic Regression\n",
    "log_probs = log_model.predict_proba(X_test)\n",
    "log_metrics = evaluate_model(y_test, log_preds, 'Logistic Regression', log_probs)\n",
    "metrics_df = pd.concat([metrics_df, pd.DataFrame([log_metrics])], ignore_index=True)\n",
    "\n",
    "# XGBoost\n",
    "xgb_probs = xgb_model.predict_proba(X_test)\n",
    "xgb_metrics = evaluate_model(y_test, xgb_preds, 'XGBoost', xgb_probs)\n",
    "metrics_df = pd.concat([metrics_df, pd.DataFrame([xgb_metrics])], ignore_index=True)\n",
    "\n",
    "# CatBoost\n",
    "cat_probs = cat_model.predict_proba(X_test)\n",
    "cat_metrics = evaluate_model(y_test, cat_preds, 'CatBoost', cat_probs)\n",
    "metrics_df = pd.concat([metrics_df, pd.DataFrame([cat_metrics])], ignore_index=True)\n",
    "\n",
    "# LightGBM\n",
    "lgb_probs = lgb_model.predict_proba(X_test)\n",
    "lgb_metrics = evaluate_model(y_test, lgb_preds, 'LightGBM', lgb_probs)\n",
    "metrics_df = pd.concat([metrics_df, pd.DataFrame([lgb_metrics])], ignore_index=True)\n",
    "\n",
    "print(metrics_df)\n"
   ]
  },
  {
   "cell_type": "code",
   "execution_count": 65,
   "id": "ba810da4-8c1d-4a5a-944f-a066e69487fb",
   "metadata": {},
   "outputs": [
    {
     "data": {
      "image/png": "[encoded data removed]",
      "text/plain": [
       "<Figure size 1200x800 with 1 Axes>"
      ]
     },
     "metadata": {},
     "output_type": "display_data"
    }
   ],
   "source": [
    "# Visualisation of the models\n",
    "plt.figure(figsize=(12,8))\n",
    "melted = metrics_df.melt(id_vars='Model', value_vars=['Accuracy', 'Precision', 'Recall', 'F1', 'AUC'])\n",
    "sns.barplot(x='variable', y='value', hue='Model', data=melted)\n",
    "plt.title('Model Comparison on Classification Metrics')\n",
    "plt.ylabel('Score')\n",
    "plt.ylim(0,1)\n",
    "plt.show()"
   ]
  },
  {
   "cell_type": "code",
   "execution_count": 66,
   "id": "ab11d469-5f79-4e51-8d0a-cec7ab72aeac",
   "metadata": {},
   "outputs": [
    {
     "name": "stdout",
     "output_type": "stream",
     "text": [
      "\n",
      "Final Decision: We choose LightGBM because it achieved the highest F1 score of 0.25, with an accuracy of 0.45 and AUC of 0.69.\n"
     ]
    }
   ],
   "source": [
    "# Select best model based on highest  AUC\n",
    "best_model_row = metrics_df.sort_values(by='AUC', ascending=False).iloc[0]\n",
    "\n",
    "print(f\"\\nFinal Decision: We choose {best_model_row['Model']} because it achieved the highest F1 score of {best_model_row['F1']:.2f}, with an accuracy of {best_model_row['Accuracy']:.2f} and AUC of {best_model_row['AUC']:.2f}.\")\n"
   ]
  }
 ],
 "metadata": {
  "kernelspec": {
   "display_name": "Python 3 (ipykernel)",
   "language": "python",
   "name": "python3"
  },
  "language_info": {
   "codemirror_mode": {
    "name": "ipython",
    "version": 3
   },
   "file_extension": ".py",
   "mimetype": "text/x-python",
   "name": "python",
   "nbconvert_exporter": "python",
   "pygments_lexer": "ipython3",
   "version": "3.12.4"
  }
 },
 "nbformat": 4,
 "nbformat_minor": 5
}
